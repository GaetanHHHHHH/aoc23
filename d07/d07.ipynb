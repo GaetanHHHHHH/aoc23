{
 "cells": [
  {
   "cell_type": "code",
   "execution_count": 101,
   "id": "d593dc6f",
   "metadata": {},
   "outputs": [],
   "source": [
    "# Get input\n",
    "input_test = ['32T3K 765', \n",
    "              'T55J5 684',\n",
    "              'KK677 28',\n",
    "              'KTJJT 220',\n",
    "              'QQQJA 483']\n",
    "inpute = open(\"./input.txt\").read().splitlines()"
   ]
  },
  {
   "cell_type": "code",
   "execution_count": 50,
   "id": "e0251f5c-9984-4096-90d8-c2f8fea42393",
   "metadata": {},
   "outputs": [],
   "source": [
    "# Imports"
   ]
  },
  {
   "cell_type": "code",
   "execution_count": 3,
   "id": "a7d165b6-90a0-4f05-89ee-1e50c8fde568",
   "metadata": {},
   "outputs": [],
   "source": [
    "strength = {'A':1, 'K':2, 'Q':3, 'J':4, 'T':5, '9':6, '8':7, '7':8, '6':9, '5':10, '4':11, '3':12, '2':13}"
   ]
  },
  {
   "cell_type": "code",
   "execution_count": 4,
   "id": "04b2d941-bf0b-484b-9443-061526987248",
   "metadata": {},
   "outputs": [
    {
     "name": "stdout",
     "output_type": "stream",
     "text": [
      "['32T3K', 'T55J5', 'KK677', 'KTJJT', 'QQQJA'] ['765', '684', '28', '220', '483']\n"
     ]
    }
   ],
   "source": [
    "hands = []\n",
    "values = []\n",
    "\n",
    "hands_values = {}\n",
    "\n",
    "for i in range(0, len(input_test)):\n",
    "    hands.append(input_test[i].split(':')[0].split(' ')[0])\n",
    "    values.append(input_test[i].split(':')[0].split(' ')[1])\n",
    "\n",
    "    hands_values[input_test[i].split(':')[0].split(' ')[0]] = input_test[i].split(':')[0].split(' ')[1]\n",
    "\n",
    "print(hands, values)"
   ]
  },
  {
   "cell_type": "markdown",
   "id": "82d5036f-854c-426e-a452-98c97bb15738",
   "metadata": {},
   "source": [
    "## Part 1"
   ]
  },
  {
   "cell_type": "code",
   "execution_count": 5,
   "id": "f7484f3f-7762-4a9f-8486-9db381713631",
   "metadata": {},
   "outputs": [],
   "source": [
    "def compute_score(hand):\n",
    "    my_dict = {j:hand.count(j) for j in hand}\n",
    "    \n",
    "    return my_dict"
   ]
  },
  {
   "cell_type": "code",
   "execution_count": 58,
   "id": "4d1eb7d5-2061-42f9-9ead-97d91da2b613",
   "metadata": {},
   "outputs": [],
   "source": [
    "scores = {}\n",
    "\n",
    "for hand in hands:\n",
    "    scores[hand] = compute_score(hand)\n",
    "\n",
    "#print(scores)"
   ]
  },
  {
   "cell_type": "code",
   "execution_count": 195,
   "id": "380df56b-2f48-4599-b0a0-83d575fbad88",
   "metadata": {},
   "outputs": [],
   "source": [
    "def convert_values_cards(card):\n",
    "    new_card = strength2[card]\n",
    "    return new_card"
   ]
  },
  {
   "cell_type": "code",
   "execution_count": 8,
   "id": "2eeb96d9-0ba0-48d4-8d1e-c71888f07913",
   "metadata": {},
   "outputs": [],
   "source": [
    "sorted_keys = sorted(hands, key=lambda hand: (-1*len(scores[hand].values()), max(scores[hand].values()), -1*convert_values_cards(hand[0]), -1*convert_values_cards(hand[1]), -1*convert_values_cards(hand[2]), -1*convert_values_cards(hand[3]), -1*convert_values_cards(hand[4])))"
   ]
  },
  {
   "cell_type": "code",
   "execution_count": 9,
   "id": "9f703289-f3fe-4dc0-a06d-5a095e60df37",
   "metadata": {},
   "outputs": [
    {
     "name": "stdout",
     "output_type": "stream",
     "text": [
      "6440\n"
     ]
    }
   ],
   "source": [
    "sum = 0\n",
    "\n",
    "for i in range(0, len(sorted_keys)):\n",
    "    sum += (i+1)*int(hands_values[sorted_keys[i]])\n",
    "\n",
    "print(sum)"
   ]
  },
  {
   "cell_type": "markdown",
   "id": "8ca2646c-0f4f-4a70-80ac-0fcf668cc092",
   "metadata": {},
   "source": [
    "## Part 2"
   ]
  },
  {
   "cell_type": "code",
   "execution_count": 210,
   "id": "11f7d8d9-6fcb-4254-9426-95723158ea91",
   "metadata": {},
   "outputs": [],
   "source": [
    "hands = []\n",
    "values = []\n",
    "\n",
    "hands_values = {}\n",
    "\n",
    "for i in range(0, len(inpute)):\n",
    "    hands.append(inpute[i].split(':')[0].split(' ')[0])\n",
    "    values.append(inpute[i].split(':')[0].split(' ')[1])\n",
    "\n",
    "    hands_values[inpute[i].split(':')[0].split(' ')[0]] = inpute[i].split(':')[0].split(' ')[1]\n",
    "\n",
    "#print(hands, values)"
   ]
  },
  {
   "cell_type": "code",
   "execution_count": 212,
   "id": "846d6e6c-663a-4b29-b616-272fe8fcc226",
   "metadata": {},
   "outputs": [],
   "source": [
    "strength2 = {'A':1, 'K':2, 'Q':3, 'T':4, '9':5, '8':6, '7':7, '6':8, '5':9, '4':10, '3':11, '2':12, 'J':13}"
   ]
  },
  {
   "cell_type": "markdown",
   "id": "8330ad7b-1397-4491-993f-aa6dccea50ea",
   "metadata": {},
   "source": [
    "#### scenarios: \n",
    "- 5 (len(scores.values()) = 1)\n",
    "- 4, 1 (len(scores.values()) = 2)\n",
    "- 3, 2 (len(scores.values()) = 2)\n",
    "- 3, 1, 1 (len(scores.values()) = 3)\n",
    "- 2, 2, 1 (len(scores.values()) = 3)\n",
    "- 2, 1, 1, 1 (len(scores.values()) = 4)\n",
    "- 1, 1, 1, 1, 1 (len(scores.values()) = 5)\n",
    "\n",
    "#### Takeaways\n",
    "- first rule: length of the hand scores (inverse)\n",
    "- second rule: max value of the scores\n",
    "- third rule: value of max card (inverse)"
   ]
  },
  {
   "cell_type": "code",
   "execution_count": 253,
   "id": "aebbe3c4-fa37-4c3c-9f57-b49116fae932",
   "metadata": {},
   "outputs": [],
   "source": [
    "scores = {}\n",
    "\n",
    "for hand in hands:\n",
    "    scores[hand] = compute_score(hand)\n",
    "\n",
    "#print(scores)"
   ]
  },
  {
   "cell_type": "code",
   "execution_count": 254,
   "id": "ace0060d-945d-4ac3-97d8-3f61f25eaca9",
   "metadata": {},
   "outputs": [],
   "source": [
    "for hand in hands:\n",
    "    joker = scores[hand].get('J')\n",
    "    if joker != None:\n",
    "        \n",
    "        if len(scores[hand].values()) == 1:\n",
    "            scores[hand]['A'] = 5\n",
    "            \n",
    "        elif len(scores[hand].values()) == 2:\n",
    "            for key, value in scores[hand].items():\n",
    "                if key != 'J':\n",
    "                    scores[hand][key] += joker\n",
    "\n",
    "        elif len(scores[hand].values()) == 3:\n",
    "            if joker == 3:\n",
    "                for key, value in strength2.items():\n",
    "                    found = False\n",
    "                    for keyz, valuez in scores[hand].items():\n",
    "                        if key == keyz:\n",
    "                            scores[hand][keyz] += 3\n",
    "                            found = True\n",
    "                            break\n",
    "                    if found == True:\n",
    "                        break\n",
    "            elif joker == 2:\n",
    "                for key, value in scores[hand].items():\n",
    "                    if scores[hand][key] == 2 and key != 'J':\n",
    "                        scores[hand][key] += 2\n",
    "            elif max(scores[hand].values()) == 3:\n",
    "                scores[hand][list(scores[hand].keys())[list(scores[hand].values()).index(max(scores[hand].values()))]] += 1\n",
    "            else:\n",
    "                for key, value in strength2.items():\n",
    "                    found = False\n",
    "                    for keyz, valuez in scores[hand].items():\n",
    "                        if key == keyz:\n",
    "                            scores[hand][keyz] += 1\n",
    "                            found = True\n",
    "                            break\n",
    "                    if found == True:\n",
    "                        break\n",
    "\n",
    "        elif len(scores[hand].values()) == 4:\n",
    "            if joker == 2:\n",
    "                for key, value in strength2.items():\n",
    "                    found = False\n",
    "                    for keyz, valuez in scores[hand].items():\n",
    "                        if key == keyz:\n",
    "                            scores[hand][keyz] += 2\n",
    "                            found = True\n",
    "                            break\n",
    "                    if found == True:\n",
    "                        break\n",
    "            else:\n",
    "                scores[hand][list(scores[hand].keys())[list(scores[hand].values()).index(max(scores[hand].values()))]] += 1\n",
    "\n",
    "        else:\n",
    "            for key, value in strength2.items():\n",
    "                found = False\n",
    "                for keyz, valuez in scores[hand].items():\n",
    "                    if key == keyz:\n",
    "                        scores[hand][keyz] += 1\n",
    "                        found = True\n",
    "                        break\n",
    "                if found == True:\n",
    "                    break\n",
    "                    \n",
    "                \n",
    "\n",
    "        #elif len(scores[hand].values()) == 4:\n",
    "            \n",
    "    \n",
    "    scores[hand].pop('J', None)"
   ]
  },
  {
   "cell_type": "code",
   "execution_count": 245,
   "id": "fef3a18b-cd0c-4799-9103-09a58c2e6442",
   "metadata": {},
   "outputs": [
    {
     "name": "stdout",
     "output_type": "stream",
     "text": [
      "9J9JJ {'9': 2, 'J': 3}\n",
      "JJ4J8 {'J': 3, '4': 1, '8': 1}\n",
      "JJ6J3 {'J': 3, '6': 1, '3': 1}\n",
      "J44JJ {'J': 3, '4': 2}\n",
      "JJQ7J {'J': 3, 'Q': 1, '7': 1}\n"
     ]
    }
   ],
   "source": [
    "for hand in hands:\n",
    "    #print(scores[hand]['J'])\n",
    "    if 'J' in scores[hand].keys() and scores[hand]['J'] == 3:\n",
    "        print(hand, scores[hand])"
   ]
  },
  {
   "cell_type": "code",
   "execution_count": 256,
   "id": "4c41a752-2067-48b3-a72e-b4a93aec04a4",
   "metadata": {},
   "outputs": [],
   "source": [
    "sorted_keys = sorted(hands, key=lambda hand: (-1*len(scores[hand].values()), max(scores[hand].values()), -1*convert_values_cards(hand[0]), -1*convert_values_cards(hand[1]), -1*convert_values_cards(hand[2]), -1*convert_values_cards(hand[3]), -1*convert_values_cards(hand[4])))"
   ]
  },
  {
   "cell_type": "code",
   "execution_count": 257,
   "id": "0f45b7e5-8f10-497b-9583-4dd0243e5892",
   "metadata": {},
   "outputs": [
    {
     "name": "stdout",
     "output_type": "stream",
     "text": [
      "251224870\n"
     ]
    }
   ],
   "source": [
    "sum = 0\n",
    "\n",
    "for i in range(0, len(sorted_keys)):\n",
    "    sum += (i+1)*int(hands_values[sorted_keys[i]])\n",
    "\n",
    "print(sum)"
   ]
  },
  {
   "cell_type": "code",
   "execution_count": null,
   "id": "712d33cc-cb5d-4ea4-a4fc-6488e6b1037c",
   "metadata": {},
   "outputs": [],
   "source": [
    "#9J9JJ {'9': 2, 'J': 3}\n",
    "JJ4J8 {'J': 3, '4': 1, '8': 1}\n",
    "JJ6J3 {'J': 3, '6': 1, '3': 1}\n",
    "J44JJ {'J': 3, '4': 2}\n",
    "JJQ7J {'J': 3, 'Q': 1, '7': 1}"
   ]
  },
  {
   "cell_type": "code",
   "execution_count": 255,
   "id": "b4df342e-e858-459e-9da8-ad73f34351da",
   "metadata": {},
   "outputs": [
    {
     "name": "stdout",
     "output_type": "stream",
     "text": [
      "{'Q': 4, '7': 1}\n"
     ]
    }
   ],
   "source": [
    "print(scores['JJQ7J'])"
   ]
  },
  {
   "cell_type": "code",
   "execution_count": null,
   "id": "da2cc5fe-f6c7-43ba-aeb6-66efe4d040ca",
   "metadata": {},
   "outputs": [],
   "source": [
    "for hand in hands:\n",
    "    print(scores[hand]['J'])"
   ]
  }
 ],
 "metadata": {
  "kernelspec": {
   "display_name": "Python 3 (ipykernel)",
   "language": "python",
   "name": "python3"
  },
  "language_info": {
   "codemirror_mode": {
    "name": "ipython",
    "version": 3
   },
   "file_extension": ".py",
   "mimetype": "text/x-python",
   "name": "python",
   "nbconvert_exporter": "python",
   "pygments_lexer": "ipython3",
   "version": "3.10.13"
  }
 },
 "nbformat": 4,
 "nbformat_minor": 5
}
