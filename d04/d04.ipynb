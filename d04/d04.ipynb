{
 "cells": [
  {
   "cell_type": "code",
   "execution_count": 57,
   "id": "d593dc6f",
   "metadata": {},
   "outputs": [],
   "source": [
    "# Get input\n",
    "input_test = ['Card 1: 41 48 83 86 17 | 83 86  6 31 17  9 48 53',\n",
    "              'Card 2: 13 32 20 16 61 | 61 30 68 82 17 32 24 19',\n",
    "              'Card 3:  1 21 53 59 44 | 69 82 63 72 16 21 14  1',\n",
    "              'Card 4: 41 92 73 84 69 | 59 84 76 51 58  5 54 83',\n",
    "              'Card 5: 87 83 26 28 32 | 88 30 70 12 93 22 82 36',\n",
    "              'Card 6: 31 18 13 56 72 | 74 77 10 23 35 67 36 11']\n",
    "inpute = open(\"./input.txt\").read().splitlines()"
   ]
  },
  {
   "cell_type": "code",
   "execution_count": 58,
   "id": "e0251f5c-9984-4096-90d8-c2f8fea42393",
   "metadata": {},
   "outputs": [],
   "source": [
    "# Imports\n",
    "import re"
   ]
  },
  {
   "cell_type": "markdown",
   "id": "91a95742-c433-4b0d-be98-67101a1d7e31",
   "metadata": {},
   "source": [
    "## Part 1"
   ]
  },
  {
   "cell_type": "code",
   "execution_count": 135,
   "id": "4580b981-29a4-4080-8b63-8da037c543a0",
   "metadata": {},
   "outputs": [],
   "source": [
    "new = []\n",
    "\n",
    "for row in inpute:\n",
    "    leave, take = row.split(':')\n",
    "    new.append(take.strip())\n",
    "    \n",
    "#print(new)"
   ]
  },
  {
   "cell_type": "code",
   "execution_count": 136,
   "id": "4e8225c1-1c0b-4332-98e4-a8ca8e79aba0",
   "metadata": {},
   "outputs": [
    {
     "name": "stdout",
     "output_type": "stream",
     "text": [
      "Winning numbers: 66 90 67 76 55 13 91 31 95  4, own numbers: 82 98 69  8 15  2 32 24 99 56 46 65 60 72 58 68 54 22 26  5 74 25 84 73 61\n"
     ]
    }
   ],
   "source": [
    "win, nums = [], []\n",
    "\n",
    "for row in new:\n",
    "    w, n = row.split('|')\n",
    "    win.append(w.strip())\n",
    "    nums.append(n.strip())\n",
    "\n",
    "print(f'Winning numbers: {win[0]}, own numbers: {nums[0]}')"
   ]
  },
  {
   "cell_type": "code",
   "execution_count": 137,
   "id": "0117d26f-72dc-4409-819d-6543e93c2db0",
   "metadata": {},
   "outputs": [
    {
     "name": "stdout",
     "output_type": "stream",
     "text": [
      "['94', '57', '54', '45', '9', '78', '71', '35', '48', '44']\n"
     ]
    }
   ],
   "source": [
    "id = 1\n",
    "wins = {}\n",
    "\n",
    "for row in win:\n",
    "    wins[id] = row.split()\n",
    "    id += 1\n",
    "    \n",
    "print(wins[2])"
   ]
  },
  {
   "cell_type": "code",
   "execution_count": 138,
   "id": "50a1f866-723b-4a53-9d7c-c3ef569c4803",
   "metadata": {},
   "outputs": [
    {
     "name": "stdout",
     "output_type": "stream",
     "text": [
      "['9', '56', '28', '57', '55', '95', '32', '48', '76', '47', '94', '35', '78', '91', '54', '49', '38', '30', '17', '63', '71', '8', '16', '45', '44']\n"
     ]
    }
   ],
   "source": [
    "id = 1\n",
    "nbs = {}\n",
    "\n",
    "for row in nums:\n",
    "    nbs[id] = row.split()\n",
    "    id += 1\n",
    "\n",
    "print(nbs[2])"
   ]
  },
  {
   "cell_type": "code",
   "execution_count": 139,
   "id": "2d310744-cdfa-4767-b1df-e3591f624972",
   "metadata": {},
   "outputs": [
    {
     "name": "stdout",
     "output_type": "stream",
     "text": [
      "27845\n"
     ]
    }
   ],
   "source": [
    "sum = 0\n",
    "\n",
    "for key, value in wins.items():\n",
    "    count = 0\n",
    "    for item in value:\n",
    "        if item in nbs[key]:\n",
    "            if count == 0:\n",
    "                count += 1\n",
    "            else:\n",
    "                count *= 2\n",
    "    sum += count\n",
    "        \n",
    "print(sum)"
   ]
  },
  {
   "cell_type": "markdown",
   "id": "0b04c0c9-db95-453e-b39c-c8fcb275e68d",
   "metadata": {},
   "source": [
    "## Part 2"
   ]
  },
  {
   "cell_type": "code",
   "execution_count": 143,
   "id": "92b1c909-9a6f-42ee-a703-86ae42c300b7",
   "metadata": {},
   "outputs": [],
   "source": [
    "cards_counter = {}\n",
    "\n",
    "# Instantiate dict\n",
    "for i in range(1, len(wins.keys())+1):\n",
    "    cards_counter[i] = 1\n",
    "\n",
    "#print(cards_counter)"
   ]
  },
  {
   "cell_type": "code",
   "execution_count": 144,
   "id": "7e6bcc36-a887-46b5-9258-60e9ad8660d6",
   "metadata": {},
   "outputs": [],
   "source": [
    "for key, value in wins.items():\n",
    "\n",
    "    # Count winning numbers in this card\n",
    "    count = 0\n",
    "    for item in value:\n",
    "        if item in nbs[key]:\n",
    "            count += 1\n",
    "\n",
    "    # Increase nb of cards\n",
    "    for j in range(0, cards_counter[key]):\n",
    "        for i in range(key+1, key+1+count):\n",
    "            cards_counter[i] += 1\n",
    "        \n",
    "#print(cards_counter)"
   ]
  },
  {
   "cell_type": "code",
   "execution_count": 145,
   "id": "ad103167-c1fa-41ce-be3d-27e061c9ea81",
   "metadata": {},
   "outputs": [
    {
     "name": "stdout",
     "output_type": "stream",
     "text": [
      "9496801\n"
     ]
    }
   ],
   "source": [
    "sum = 0\n",
    "\n",
    "for key, value in cards_counter.items():\n",
    "    sum += value\n",
    "\n",
    "print(sum)"
   ]
  },
  {
   "cell_type": "code",
   "execution_count": null,
   "id": "83b8610c-ffe1-4612-a092-616849272f28",
   "metadata": {},
   "outputs": [],
   "source": []
  }
 ],
 "metadata": {
  "kernelspec": {
   "display_name": "Python 3 (ipykernel)",
   "language": "python",
   "name": "python3"
  },
  "language_info": {
   "codemirror_mode": {
    "name": "ipython",
    "version": 3
   },
   "file_extension": ".py",
   "mimetype": "text/x-python",
   "name": "python",
   "nbconvert_exporter": "python",
   "pygments_lexer": "ipython3",
   "version": "3.10.13"
  }
 },
 "nbformat": 4,
 "nbformat_minor": 5
}
