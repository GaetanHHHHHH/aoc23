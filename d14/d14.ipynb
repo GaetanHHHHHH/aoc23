{
 "cells": [
  {
   "cell_type": "code",
   "execution_count": 7,
   "metadata": {},
   "outputs": [],
   "source": [
    "test_input = ['O....#....',\n",
    "              'O.OO#....#',\n",
    "              '.....##...',\n",
    "              'OO##O....O',\n",
    "              '.O.....O#.',\n",
    "              'O....O.#.#',\n",
    "              '..O..#O..O',\n",
    "              '..O....O..',\n",
    "              '#.O..###..',\n",
    "              '#OO..#....']\n",
    "inpute = open(\"./input.txt\").read().splitlines()"
   ]
  },
  {
   "cell_type": "code",
   "execution_count": 313,
   "metadata": {},
   "outputs": [],
   "source": [
    "def rollup_inv(grid):\n",
    "    def can_roll_up(i, j):\n",
    "        return i > 0 and grid[i][j] == \"O\" and grid[i - 1][j] == \".\"\n",
    "\n",
    "    def roll_up(i, j):\n",
    "        if can_roll_up(i, j):\n",
    "            grid[i][j] = \".\"\n",
    "            grid[i - 1][j] = \"O\"\n",
    "            roll_up(i - 1, j)\n",
    "        if grid[i - 1][j] == \"O\":\n",
    "            roll_up(i - 1, j)\n",
    "\n",
    "\n",
    "    grid = [list(row) for row in grid]\n",
    "\n",
    "    for i in range(len(grid) - 1, 0, -1):\n",
    "        for j in range(len(grid[i])):\n",
    "            roll_up(i, j)\n",
    "\n",
    "    grid = [\"\".join(row) for row in grid]\n",
    "\n",
    "    return grid"
   ]
  },
  {
   "cell_type": "code",
   "execution_count": 314,
   "metadata": {},
   "outputs": [],
   "source": [
    "new_grid = rollup_inv(test_input)"
   ]
  },
  {
   "cell_type": "code",
   "execution_count": 315,
   "metadata": {},
   "outputs": [
    {
     "data": {
      "text/plain": [
       "['OOOO.#.O..',\n",
       " 'OO..#....#',\n",
       " 'OO..O##..O',\n",
       " 'O.##.OO...',\n",
       " '..O.....#.',\n",
       " '..O....#.#',\n",
       " '.....#.O.O',\n",
       " '..........',\n",
       " '#.O..###..',\n",
       " '#.O..#....']"
      ]
     },
     "execution_count": 315,
     "metadata": {},
     "output_type": "execute_result"
    }
   ],
   "source": [
    "new_grid"
   ]
  },
  {
   "cell_type": "code",
   "execution_count": 235,
   "metadata": {},
   "outputs": [
    {
     "name": "stdout",
     "output_type": "stream",
     "text": [
      "108542\n"
     ]
    }
   ],
   "source": [
    "count = 0\n",
    "\n",
    "for i in range(len(new_grid)-1, -1, -1):\n",
    "    for j in range(0, len(new_grid[i])):\n",
    "        if new_grid[i][j] == \"O\":\n",
    "            count += len(new_grid)-i\n",
    "\n",
    "print(count)"
   ]
  },
  {
   "cell_type": "code",
   "execution_count": 10,
   "metadata": {},
   "outputs": [
    {
     "name": "stdout",
     "output_type": "stream",
     "text": [
      "109466\n"
     ]
    }
   ],
   "source": [
    "# Hyper Neutrino sol for part 1 (/insert mind blown emoji)\n",
    "grid = inpute\n",
    "grid = list(map(\"\".join, zip(*grid)))\n",
    "grid = [\"#\".join([\"\".join(sorted(list(group), reverse=True)) for group in row.split(\"#\")]) for row in grid]\n",
    "grid = list(map(\"\".join, zip(*grid)))\n",
    "\n",
    "print(sum(row.count(\"O\") * (len(grid) - r) for r, row in enumerate(grid)))"
   ]
  },
  {
   "cell_type": "code",
   "execution_count": 12,
   "metadata": {},
   "outputs": [
    {
     "name": "stdout",
     "output_type": "stream",
     "text": [
      "94585\n"
     ]
    }
   ],
   "source": [
    "# Part 2\n",
    "from functools import cache\n",
    "\n",
    "grid = tuple(inpute)\n",
    "\n",
    "def cycle():\n",
    "    global grid\n",
    "    for _ in range(4):\n",
    "        grid = tuple(map(\"\".join, zip(*grid)))\n",
    "        grid = tuple(\"#\".join([\"\".join(sorted(tuple(group), reverse=True)) for group in row.split(\"#\")]) for row in grid)\n",
    "        grid = tuple(row[::-1] for row in grid)\n",
    "\n",
    "seen = {grid}\n",
    "array = [grid]\n",
    "\n",
    "iter = 0\n",
    "\n",
    "while True:\n",
    "    iter += 1\n",
    "    cycle()\n",
    "    if grid in seen:\n",
    "        break\n",
    "    seen.add(grid)\n",
    "    array.append(grid)\n",
    "    \n",
    "first = array.index(grid)\n",
    "    \n",
    "grid = array[(1000000000 - first) % (iter - first) + first]\n",
    "\n",
    "print(sum(row.count(\"O\") * (len(grid) - r) for r, row in enumerate(grid)))"
   ]
  },
  {
   "cell_type": "code",
   "execution_count": null,
   "metadata": {},
   "outputs": [],
   "source": []
  }
 ],
 "metadata": {
  "kernelspec": {
   "display_name": "Python 3",
   "language": "python",
   "name": "python3"
  },
  "language_info": {
   "codemirror_mode": {
    "name": "ipython",
    "version": 3
   },
   "file_extension": ".py",
   "mimetype": "text/x-python",
   "name": "python",
   "nbconvert_exporter": "python",
   "pygments_lexer": "ipython3",
   "version": "3.11.1"
  }
 },
 "nbformat": 4,
 "nbformat_minor": 2
}
