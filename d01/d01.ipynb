{
 "cells": [
  {
   "cell_type": "code",
   "execution_count": 185,
   "id": "d593dc6f",
   "metadata": {},
   "outputs": [],
   "source": [
    "inpute_test = ['two1nine', 'eightwothree', 'abcone2threexyz', 'xtwone3four', '4nineeightseven2', 'zoneight234', '7pqrstsixteen']\n",
    "inpute = open(\"./input.txt\").read().splitlines()"
   ]
  },
  {
   "cell_type": "code",
   "execution_count": 158,
   "id": "b82aaf6b",
   "metadata": {},
   "outputs": [],
   "source": [
    "def replace_all(liste, dic):\n",
    "    for x in range(0, len(liste)):\n",
    "        for i, j in dic.items():\n",
    "            liste[x] = liste[x].replace(i, j)\n",
    "    return liste"
   ]
  },
  {
   "cell_type": "code",
   "execution_count": 159,
   "id": "8ffb2694",
   "metadata": {},
   "outputs": [],
   "source": [
    "dic = {'one': '1',\n",
    "       'two': '2',\n",
    "       'three': '3',\n",
    "       'four': '4',\n",
    "       'five': '5',\n",
    "       'six': '6',\n",
    "       'seven': '7',\n",
    "       'eight': '8',\n",
    "       'nine': '9'}"
   ]
  },
  {
   "cell_type": "code",
   "execution_count": 165,
   "id": "c2b2b238",
   "metadata": {},
   "outputs": [],
   "source": [
    "replaced = replace_all(inpute_test, dic)"
   ]
  },
  {
   "cell_type": "code",
   "execution_count": 202,
   "id": "26aa751c",
   "metadata": {},
   "outputs": [],
   "source": [
    "def compute_sum(input, dic):\n",
    "    sum = 0\n",
    "    \n",
    "    for line in input:\n",
    "        first = 0\n",
    "        last = 0\n",
    "        chars = ''\n",
    "        \n",
    "        for i in range(0, len(line)):\n",
    "            if first == 0:\n",
    "                if line[i] in dic.values():\n",
    "                    first = line[i]\n",
    "                    chars = ''\n",
    "                else:\n",
    "                    chars = chars+line[i]\n",
    "                    for nbs in dic.items():\n",
    "                        if nbs[0] in chars:\n",
    "                            first = nbs[1]\n",
    "                            chars = ''\n",
    "                    \n",
    "        for j in range(len(line) - 1, -1, -1):\n",
    "            if last == 0:\n",
    "                if line[j] in dic.values():\n",
    "                    last = line[j]\n",
    "                    chars = ''\n",
    "                else:\n",
    "                    chars = chars+line[j]\n",
    "                    for nbs in dic.items():\n",
    "                        if nbs[0] in chars[::-1]:\n",
    "                            last = nbs[1]\n",
    "                            chars = ''\n",
    "                \n",
    "        sum += int(str(first) + str(last))\n",
    "    \n",
    "    return(sum)"
   ]
  },
  {
   "cell_type": "code",
   "execution_count": 203,
   "id": "1bd35b71",
   "metadata": {
    "scrolled": false
   },
   "outputs": [
    {
     "name": "stdout",
     "output_type": "stream",
     "text": [
      "54581\n"
     ]
    }
   ],
   "source": [
    "print(compute_sum(inpute, dic))"
   ]
  }
 ],
 "metadata": {
  "kernelspec": {
   "display_name": "Python 3 (ipykernel)",
   "language": "python",
   "name": "python3"
  },
  "language_info": {
   "codemirror_mode": {
    "name": "ipython",
    "version": 3
   },
   "file_extension": ".py",
   "mimetype": "text/x-python",
   "name": "python",
   "nbconvert_exporter": "python",
   "pygments_lexer": "ipython3",
   "version": "3.11.1"
  }
 },
 "nbformat": 4,
 "nbformat_minor": 5
}
