{
 "cells": [
  {
   "cell_type": "code",
   "execution_count": null,
   "id": "99c8b211",
   "metadata": {},
   "outputs": [],
   "source": [
    "''' \n",
    "    inspired by -- https://www.youtube.com/watch?v=g3Ms5e7Jdqo&ab_channel=HyperNeutrino\n",
    "'''"
   ]
  },
  {
   "cell_type": "markdown",
   "id": "d3e7a276-4b03-46fb-88b8-2e83001dad29",
   "metadata": {},
   "source": [
    "## Setup"
   ]
  },
  {
   "cell_type": "code",
   "execution_count": 25,
   "id": "d593dc6f",
   "metadata": {},
   "outputs": [],
   "source": [
    "# Get input\n",
    "input_test = ['???.### 1,1,3',\n",
    "              '.??..??...?##. 1,1,3',\n",
    "              '?#?#?#?#?#?#?#? 1,3,1,6',\n",
    "              '????.#...#... 4,1,1',\n",
    "              '????.######..#####. 1,6,5',\n",
    "              '?###???????? 3,2,1']\n",
    "\n",
    "inpute = open(\"./input.txt\").read().splitlines()"
   ]
  },
  {
   "cell_type": "markdown",
   "id": "ef88d6bd",
   "metadata": {},
   "source": [
    "# Part 1"
   ]
  },
  {
   "cell_type": "code",
   "execution_count": 55,
   "id": "64721700",
   "metadata": {},
   "outputs": [],
   "source": [
    "def count(conf, nums):\n",
    "    if conf == \"\":\n",
    "        return 1 if nums == () else 0\n",
    "\n",
    "    if nums == ():\n",
    "        return 0 if \"#\" in conf else 1\n",
    "\n",
    "    result = 0\n",
    "    \n",
    "    if conf[0] in \".?\":\n",
    "        result += count(conf[1:], nums)\n",
    "        \n",
    "    if conf[0] in \"#?\":\n",
    "        if nums[0] <= len(conf) and \".\" not in conf[:nums[0]] and (nums[0] == len(conf) or conf[nums[0]] != \"#\"):\n",
    "            result += count(conf[nums[0] + 1:], nums[1:])\n",
    "\n",
    "    return result"
   ]
  },
  {
   "cell_type": "code",
   "execution_count": 58,
   "id": "afdfa773",
   "metadata": {},
   "outputs": [],
   "source": [
    "total = 0\n",
    "\n",
    "for row in inpute:\n",
    "    conf, nums = row.split()\n",
    "    nums = tuple(map(int, nums.split(\",\")))\n",
    "    total += count(conf, nums)"
   ]
  },
  {
   "cell_type": "code",
   "execution_count": 59,
   "id": "d9276595",
   "metadata": {},
   "outputs": [
    {
     "name": "stdout",
     "output_type": "stream",
     "text": [
      "7361\n"
     ]
    }
   ],
   "source": [
    "print(total)"
   ]
  },
  {
   "cell_type": "markdown",
   "id": "7f8c7896",
   "metadata": {},
   "source": [
    "# Part 2"
   ]
  },
  {
   "cell_type": "code",
   "execution_count": 60,
   "id": "bd184c5d",
   "metadata": {},
   "outputs": [],
   "source": [
    "from functools import cache"
   ]
  },
  {
   "cell_type": "code",
   "execution_count": 65,
   "id": "52a603a7",
   "metadata": {},
   "outputs": [],
   "source": [
    "@cache\n",
    "def count2(conf, nums):\n",
    "    if conf == \"\":\n",
    "        return 1 if nums == () else 0\n",
    "\n",
    "    if nums == ():\n",
    "        return 0 if \"#\" in conf else 1\n",
    "\n",
    "    result = 0\n",
    "    \n",
    "    if conf[0] in \".?\":\n",
    "        result += count2(conf[1:], nums)\n",
    "        \n",
    "    if conf[0] in \"#?\":\n",
    "        if nums[0] <= len(conf) and \".\" not in conf[:nums[0]] and (nums[0] == len(conf) or conf[nums[0]] != \"#\"):\n",
    "            result += count2(conf[nums[0] + 1:], nums[1:])\n",
    "\n",
    "    return result"
   ]
  },
  {
   "cell_type": "code",
   "execution_count": 66,
   "id": "4ed05b82",
   "metadata": {},
   "outputs": [],
   "source": [
    "total2 = 0\n",
    "\n",
    "for row in inpute:\n",
    "    conf, nums = row.split()\n",
    "    nums = tuple(map(int, nums.split(\",\")))\n",
    "\n",
    "    conf = \"?\".join([conf] * 5)\n",
    "    nums *= 5\n",
    "\n",
    "    total2 += count2(conf, nums)"
   ]
  },
  {
   "cell_type": "code",
   "execution_count": 68,
   "id": "5994202f",
   "metadata": {},
   "outputs": [
    {
     "name": "stdout",
     "output_type": "stream",
     "text": [
      "83317216247365\n"
     ]
    }
   ],
   "source": [
    "print(total2)"
   ]
  },
  {
   "cell_type": "code",
   "execution_count": null,
   "id": "62427413",
   "metadata": {},
   "outputs": [],
   "source": []
  }
 ],
 "metadata": {
  "kernelspec": {
   "display_name": "Python 3 (ipykernel)",
   "language": "python",
   "name": "python3"
  },
  "language_info": {
   "codemirror_mode": {
    "name": "ipython",
    "version": 3
   },
   "file_extension": ".py",
   "mimetype": "text/x-python",
   "name": "python",
   "nbconvert_exporter": "python",
   "pygments_lexer": "ipython3",
   "version": "3.11.1"
  }
 },
 "nbformat": 4,
 "nbformat_minor": 5
}
