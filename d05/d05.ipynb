{
 "cells": [
  {
   "cell_type": "code",
   "execution_count": 1,
   "id": "d593dc6f",
   "metadata": {},
   "outputs": [],
   "source": [
    "# Get input\n",
    "input_test = \"\"\"seeds: 79 14 55 13\n",
    "\n",
    "seed-to-soil map:\n",
    "50 98 2\n",
    "52 50 48\n",
    "\n",
    "soil-to-fertilizer map:\n",
    "0 15 37\n",
    "37 52 2\n",
    "39 0 15\n",
    "\n",
    "fertilizer-to-water map:\n",
    "49 53 8\n",
    "0 11 42\n",
    "42 0 7\n",
    "57 7 4\n",
    "\n",
    "water-to-light map:\n",
    "88 18 7\n",
    "18 25 70\n",
    "\n",
    "light-to-temperature map:\n",
    "45 77 23\n",
    "81 45 19\n",
    "68 64 13\n",
    "\n",
    "temperature-to-humidity map:\n",
    "0 69 1\n",
    "1 0 69\n",
    "\n",
    "humidity-to-location map:\n",
    "60 56 37\n",
    "56 93 4\"\"\"\n",
    "\n",
    "#print(input_test)\n",
    "\n",
    "inpute = open(\"./input.txt\").read()"
   ]
  },
  {
   "cell_type": "code",
   "execution_count": 2,
   "id": "e0251f5c-9984-4096-90d8-c2f8fea42393",
   "metadata": {},
   "outputs": [],
   "source": [
    "# Imports\n",
    "# import matplotlib.pyplot as plt\n",
    "import numpy as np\n",
    "from multiprocessing import Pool\n",
    "import multiprocess as mp\n",
    "# from sklearn.model_selection import train_test_split\n",
    "# from sklearn.linear_model import LinearRegression\n",
    "# from sklearn.tree import DecisionTreeRegressor"
   ]
  },
  {
   "cell_type": "markdown",
   "id": "5c05416e-5e69-40e5-86eb-37be451bde1a",
   "metadata": {},
   "source": [
    "## Part 1"
   ]
  },
  {
   "cell_type": "code",
   "execution_count": 3,
   "id": "2e59b8c1-0214-4c52-879d-16f474bd22ec",
   "metadata": {},
   "outputs": [],
   "source": [
    "# Split on new lines\n",
    "lines = inpute.split('\\n')"
   ]
  },
  {
   "cell_type": "code",
   "execution_count": 4,
   "id": "7b24ddf2-05c1-4bd5-9e76-5a358b0d5d6f",
   "metadata": {},
   "outputs": [],
   "source": [
    "# Initialize a dictionary to store each section data\n",
    "seeds_nb = []\n",
    "section_data = {}"
   ]
  },
  {
   "cell_type": "code",
   "execution_count": 5,
   "id": "f07cf6cd-8347-480e-a707-5ba7b4634a11",
   "metadata": {},
   "outputs": [],
   "source": [
    "# Function to process a section and extract numbers\n",
    "def process_section(section_lines):\n",
    "    section_data = []\n",
    "    for line in section_lines:\n",
    "        numbers = [int(num) for num in line.split() if num.isdigit()]\n",
    "        section_data.append(numbers)\n",
    "    return section_data"
   ]
  },
  {
   "cell_type": "code",
   "execution_count": 6,
   "id": "82f5c609-fc4f-4849-bdaa-29890e56df60",
   "metadata": {},
   "outputs": [],
   "source": [
    "# Iterate through each line and process the corresponding section\n",
    "current_section = None\n",
    "for line in lines:\n",
    "    if line:\n",
    "        if ':' in line:\n",
    "            current_section = line.split(':')[0].strip()\n",
    "            if current_section == 'seeds':\n",
    "                seeds_nb.extend(int(num) for num in line.split(':')[1].strip().split(' ') if num.isdigit())\n",
    "                #section_data[current_section] = [int(num) for num in line.split(':')[1].strip().split(' ') if num.isdigit()]\n",
    "            else:\n",
    "                section_data[current_section] = []\n",
    "        else:\n",
    "            section_data[current_section].extend(process_section([line]))\n",
    "\n",
    "#print(list(seeds_nb))\n",
    "#for section, data in section_data.items():\n",
    "#    print(f\"{section}: {data}\")"
   ]
  },
  {
   "cell_type": "code",
   "execution_count": 7,
   "id": "35d08c29-388c-4a9a-af8a-457cf4383fc1",
   "metadata": {},
   "outputs": [
    {
     "data": {
      "text/plain": [
       "'\\n# Create a dict for seeds location values\\ndef compute_values(seeds_nb):\\n    seeds_map = {}\\n    for seed in seeds_nb:\\n        seeds_map[seed] = seed\\n    \\n        for key, value in section_data.items():\\n            for line in section_data[key]:\\n                    if seeds_map[seed] in range(line[1], line[1]+line[2]):\\n                        seeds_map[seed] = seeds_map[seed]+(line[0]-line[1])\\n                        break\\n\\n    return seeds_map\\n'"
      ]
     },
     "execution_count": 7,
     "metadata": {},
     "output_type": "execute_result"
    }
   ],
   "source": [
    "'''\n",
    "# Create a dict for seeds location values\n",
    "def compute_values(seeds_nb):\n",
    "    seeds_map = {}\n",
    "    for seed in seeds_nb:\n",
    "        seeds_map[seed] = seed\n",
    "    \n",
    "        for key, value in section_data.items():\n",
    "            for line in section_data[key]:\n",
    "                    if seeds_map[seed] in range(line[1], line[1]+line[2]):\n",
    "                        seeds_map[seed] = seeds_map[seed]+(line[0]-line[1])\n",
    "                        break\n",
    "\n",
    "    return seeds_map\n",
    "'''"
   ]
  },
  {
   "cell_type": "code",
   "execution_count": 8,
   "id": "dee8e4b7-fbd0-47fb-b5d6-7b192df01b64",
   "metadata": {},
   "outputs": [],
   "source": [
    "seeds_map = {}\n",
    "\n",
    "for seed in seeds_nb:\n",
    "    seeds_map[seed] = seed"
   ]
  },
  {
   "cell_type": "code",
   "execution_count": 9,
   "id": "fd1ad4f0-feb9-4271-893a-4a4314b935fe",
   "metadata": {},
   "outputs": [],
   "source": [
    "def process_seed(seed):\n",
    "    seeds_map[seed] = seed\n",
    "    \n",
    "    for key, value in section_data.items():\n",
    "        for line in section_data[key]:\n",
    "                if seeds_map[seed] in range(line[1], line[1]+line[2]):\n",
    "                    seeds_map[seed] = seeds_map[seed]+(line[0]-line[1])\n",
    "                    break\n",
    "\n",
    "    return seeds_map[seed]"
   ]
  },
  {
   "cell_type": "code",
   "execution_count": 10,
   "id": "96f7a6e7-311c-4864-9404-7f8da4feaf35",
   "metadata": {},
   "outputs": [],
   "source": [
    "with mp.Pool(5) as pool:\n",
    "    final_seeds = pool.map(process_seed, seeds_nb)"
   ]
  },
  {
   "cell_type": "code",
   "execution_count": 11,
   "id": "7a3b0802-9913-4082-b33f-9cde64254fb3",
   "metadata": {},
   "outputs": [
    {
     "data": {
      "text/plain": [
       "322500873"
      ]
     },
     "execution_count": 11,
     "metadata": {},
     "output_type": "execute_result"
    }
   ],
   "source": [
    "min(final_seeds)"
   ]
  },
  {
   "cell_type": "markdown",
   "id": "814871d7-cb1d-48f1-902f-da224a2e9eb7",
   "metadata": {},
   "source": [
    "## Part 2"
   ]
  },
  {
   "cell_type": "markdown",
   "id": "0bf84469-6f0e-4039-b825-a2cade2098de",
   "metadata": {},
   "source": [
    "### Lists + multiprocessing\n",
    "Time logs:\n",
    "- range/100000 + Pool(100): 6.95 s ± 65.5 ms per loop\n",
    "- range/100000 + Pool(1000): 20.1 s ± 568 ms per loop"
   ]
  },
  {
   "cell_type": "code",
   "execution_count": 35,
   "id": "b40538e4-884d-4a6f-91a6-8f7940a641fc",
   "metadata": {},
   "outputs": [],
   "source": [
    "seeds_nbp = np.array(seeds_nb)"
   ]
  },
  {
   "cell_type": "code",
   "execution_count": 37,
   "id": "104e71df-cf26-4532-85b8-2668743aa0ca",
   "metadata": {},
   "outputs": [
    {
     "name": "stdout",
     "output_type": "stream",
     "text": [
      "66.4 ms ± 240 µs per loop (mean ± std. dev. of 7 runs, 10 loops each)\n"
     ]
    }
   ],
   "source": [
    "%%timeit\n",
    "seeds_new = np.array([])\n",
    "\n",
    "for i in range(0, len(seeds_nbp)-1, 2):\n",
    "    for j in range(seeds_nbp[i], seeds_nbp[i]+seeds_nbp[i+1], 100000):\n",
    "        #seeds_new.append(j)\n",
    "        seeds_new = np.concatenate((seeds_new, np.array([j])))"
   ]
  },
  {
   "cell_type": "code",
   "execution_count": 38,
   "id": "92135683-b30a-415b-96f7-8e70473da3c9",
   "metadata": {},
   "outputs": [
    {
     "name": "stdout",
     "output_type": "stream",
     "text": [
      "151 ms ± 2.02 ms per loop (mean ± std. dev. of 7 runs, 10 loops each)\n"
     ]
    }
   ],
   "source": [
    "%%timeit\n",
    "seeds_map = {}\n",
    "\n",
    "for seed in seeds_new:\n",
    "    seeds_map[seed] = seed"
   ]
  },
  {
   "cell_type": "code",
   "execution_count": 42,
   "id": "d5532c8b-9f5e-4b94-b319-b72fbf257b86",
   "metadata": {},
   "outputs": [
    {
     "name": "stdout",
     "output_type": "stream",
     "text": [
      "6.81 s ± 24.3 ms per loop (mean ± std. dev. of 7 runs, 1 loop each)\n"
     ]
    }
   ],
   "source": [
    "%%timeit\n",
    "with mp.Pool(15) as pool:\n",
    "    final_seeds_2 = pool.map(process_seed, seeds_new)"
   ]
  },
  {
   "cell_type": "code",
   "execution_count": 43,
   "id": "436168d0-88f2-42c8-a047-47b5d4f0edc2",
   "metadata": {},
   "outputs": [
    {
     "data": {
      "text/plain": [
       "108956286"
      ]
     },
     "execution_count": 43,
     "metadata": {},
     "output_type": "execute_result"
    }
   ],
   "source": [
    "#%%timeit\n",
    "min(final_seeds_2)"
   ]
  },
  {
   "cell_type": "markdown",
   "id": "a911f5f5-deb5-4fbb-a83c-c57bc84987f5",
   "metadata": {},
   "source": [
    "### Torch tensors"
   ]
  },
  {
   "cell_type": "code",
   "execution_count": null,
   "id": "5365b42f-ca78-4392-8849-8ea59d3dd6f5",
   "metadata": {},
   "outputs": [],
   "source": []
  }
 ],
 "metadata": {
  "kernelspec": {
   "display_name": "Python 3 (ipykernel)",
   "language": "python",
   "name": "python3"
  },
  "language_info": {
   "codemirror_mode": {
    "name": "ipython",
    "version": 3
   },
   "file_extension": ".py",
   "mimetype": "text/x-python",
   "name": "python",
   "nbconvert_exporter": "python",
   "pygments_lexer": "ipython3",
   "version": "3.10.13"
  }
 },
 "nbformat": 4,
 "nbformat_minor": 5
}
