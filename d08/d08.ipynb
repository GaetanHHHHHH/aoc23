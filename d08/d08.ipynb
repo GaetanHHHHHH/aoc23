{
 "cells": [
  {
   "cell_type": "code",
   "execution_count": 187,
   "id": "d593dc6f",
   "metadata": {},
   "outputs": [],
   "source": [
    "# Get input\n",
    "input_test = ['LLR',\n",
    "              'AAA = (BBB, BBB)',\n",
    "              'BBB = (AAA, ZZZ)',\n",
    "              'ZZZ = (ZZZ, ZZZ)']\n",
    "inpute = open(\"./input.txt\").read().splitlines()"
   ]
  },
  {
   "cell_type": "code",
   "execution_count": 188,
   "id": "e0251f5c-9984-4096-90d8-c2f8fea42393",
   "metadata": {},
   "outputs": [],
   "source": [
    "# Imports"
   ]
  },
  {
   "cell_type": "markdown",
   "id": "82d5036f-854c-426e-a452-98c97bb15738",
   "metadata": {},
   "source": [
    "## Part 1"
   ]
  },
  {
   "cell_type": "code",
   "execution_count": 189,
   "id": "3ec8bd43-ebd4-4f65-a678-08e62f105c15",
   "metadata": {},
   "outputs": [],
   "source": [
    "def parse_input(input):\n",
    "    copy = input[:]\n",
    "    instru = copy.pop(0)\n",
    "\n",
    "    directions = {}\n",
    "    for elem in copy:\n",
    "        if elem:\n",
    "            key, value = elem.replace(' ', '').split('=')\n",
    "            directions[key] = list(value.replace('(', '').replace(')', '').split(','))\n",
    "\n",
    "    return instru, directions"
   ]
  },
  {
   "cell_type": "code",
   "execution_count": 190,
   "id": "2bf36460-09b7-4b0a-ae50-15371cb46312",
   "metadata": {},
   "outputs": [],
   "source": [
    "instru, directions = parse_input(inpute)"
   ]
  },
  {
   "cell_type": "code",
   "execution_count": 194,
   "id": "9905b3ab-6b8d-490f-af3f-a8883777c793",
   "metadata": {},
   "outputs": [
    {
     "name": "stdout",
     "output_type": "stream",
     "text": [
      "done: 21409\n"
     ]
    }
   ],
   "source": [
    "start_pos = directions['AAA']\n",
    "current_pos = []\n",
    "current_key = ''\n",
    "\n",
    "for i in range(0, 1000000000):\n",
    "    \n",
    "    if instru[i%len(instru)] == 'L':\n",
    "        current_pos = directions[start_pos[0]]\n",
    "        current_key = start_pos[0]\n",
    "        start_pos = current_pos\n",
    "                \n",
    "    elif instru[i%len(instru)] == 'R': \n",
    "        current_pos = directions[start_pos[1]]\n",
    "        current_key = start_pos[1]\n",
    "        start_pos = current_pos\n",
    "    \n",
    "    if current_key == \"ZZZ\":\n",
    "        print(\"done:\", i+1)\n",
    "        break"
   ]
  },
  {
   "cell_type": "markdown",
   "id": "8ca2646c-0f4f-4a70-80ac-0fcf668cc092",
   "metadata": {},
   "source": [
    "## Part 2"
   ]
  },
  {
   "cell_type": "code",
   "execution_count": 307,
   "id": "87fdcc99-6630-4060-b419-72d25e820c58",
   "metadata": {},
   "outputs": [],
   "source": [
    "input2 = ['LR',\n",
    "'11A = (11B, XXX)',\n",
    "'11B = (XXX, 11Z)',\n",
    "'11Z = (11B, XXX)',\n",
    "'22A = (22B, XXX)',\n",
    "'22B = (22C, 22C)',\n",
    "'22C = (22Z, 22Z)',\n",
    "'22Z = (22B, 22B)',\n",
    "'XXX = (XXX, XXX)']"
   ]
  },
  {
   "cell_type": "code",
   "execution_count": 323,
   "id": "ea93dbb8-613f-4cd2-94e9-15e7ca56cc3a",
   "metadata": {},
   "outputs": [],
   "source": [
    "instru, directions = parse_input(inpute)"
   ]
  },
  {
   "cell_type": "code",
   "execution_count": 324,
   "id": "8e634cb3-e450-49ec-b1af-f214b7aebc8f",
   "metadata": {},
   "outputs": [],
   "source": [
    "nodes = {}\n",
    "\n",
    "for key, value in directions.items():\n",
    "    if key.endswith('A'):\n",
    "        nodes[key] = {\"start_pos\": value, \"current_pos\": [], \"current_key\": ''}"
   ]
  },
  {
   "cell_type": "code",
   "execution_count": 325,
   "id": "9bcdde2a-4078-4af9-83ed-16ed5f54c077",
   "metadata": {},
   "outputs": [],
   "source": [
    "all_ended = []\n",
    "\n",
    "for i in range(0, len(nodes)):\n",
    "    all_ended.append(False)"
   ]
  },
  {
   "cell_type": "code",
   "execution_count": null,
   "id": "81e1fc58-8f5b-4f37-b63e-07b344080345",
   "metadata": {},
   "outputs": [
    {
     "name": "stdout",
     "output_type": "stream",
     "text": [
      "0\n"
     ]
    }
   ],
   "source": [
    "for i in range(0, 10000000000):\n",
    "    j = 0\n",
    "    for key, value in nodes.items():\n",
    "        j += 1\n",
    "        if instru[i%len(instru)] == 'L':\n",
    "            value[\"current_pos\"] = directions[value[\"start_pos\"][0]]\n",
    "            value[\"current_key\"] = value[\"start_pos\"][0]\n",
    "            value[\"start_pos\"] = value[\"current_pos\"]\n",
    "                    \n",
    "        elif instru[i%len(instru)] == 'R': \n",
    "            value[\"current_pos\"] = directions[value[\"start_pos\"][1]]\n",
    "            value[\"current_key\"] = value[\"start_pos\"][1]\n",
    "            value[\"start_pos\"] = value[\"current_pos\"]    \n",
    "\n",
    "        if value[\"current_key\"].endswith('Z'):\n",
    "            all_ended[j-1] = True\n",
    "        else:\n",
    "            all_ended[j-1] = False\n",
    "    \n",
    "    if all(elem for elem in all_ended[2:]):\n",
    "        #print(\"DONE\", i+1)\n",
    "        print(all_ended)\n",
    "        #break\n",
    "\n",
    "    if i%100000000 == 0:\n",
    "        print(i)"
   ]
  },
  {
   "cell_type": "code",
   "execution_count": null,
   "id": "77d7b887-daa6-420a-b83c-07f126530b8a",
   "metadata": {},
   "outputs": [],
   "source": [
    "print(1)"
   ]
  },
  {
   "cell_type": "code",
   "execution_count": null,
   "id": "fc8b4891-55c7-4c66-80e1-457d42dc8a02",
   "metadata": {},
   "outputs": [],
   "source": []
  }
 ],
 "metadata": {
  "kernelspec": {
   "display_name": "Python 3 (ipykernel)",
   "language": "python",
   "name": "python3"
  },
  "language_info": {
   "codemirror_mode": {
    "name": "ipython",
    "version": 3
   },
   "file_extension": ".py",
   "mimetype": "text/x-python",
   "name": "python",
   "nbconvert_exporter": "python",
   "pygments_lexer": "ipython3",
   "version": "3.10.13"
  }
 },
 "nbformat": 4,
 "nbformat_minor": 5
}
