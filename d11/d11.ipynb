{
 "cells": [
  {
   "cell_type": "markdown",
   "id": "d3e7a276-4b03-46fb-88b8-2e83001dad29",
   "metadata": {},
   "source": [
    "## Setup"
   ]
  },
  {
   "cell_type": "code",
   "execution_count": 187,
   "id": "d593dc6f",
   "metadata": {},
   "outputs": [],
   "source": [
    "# Get input\n",
    "input_test = ['...#......',\n",
    "              '.......#..',\n",
    "              '#.........',\n",
    "              '..........',\n",
    "              '......#...',\n",
    "              '.#........',\n",
    "              '.........#',\n",
    "              '..........',\n",
    "              '.......#..',\n",
    "              '#...#.....']\n",
    "inpute = open(\"./input.txt\").read().splitlines()"
   ]
  },
  {
   "cell_type": "code",
   "execution_count": 188,
   "id": "e0251f5c-9984-4096-90d8-c2f8fea42393",
   "metadata": {},
   "outputs": [],
   "source": [
    "# Imports"
   ]
  },
  {
   "cell_type": "markdown",
   "id": "3dc5c4e4-4dad-4bff-9d84-213771ac4a02",
   "metadata": {},
   "source": [
    "### Create matrix"
   ]
  },
  {
   "cell_type": "code",
   "execution_count": 189,
   "id": "9c1aa053-a7f1-4275-a9fb-1db2bda80629",
   "metadata": {},
   "outputs": [],
   "source": [
    "# Create matrix from input\n",
    "base_matrix = [[char for char in row] for row in inpute]"
   ]
  },
  {
   "cell_type": "code",
   "execution_count": 191,
   "id": "46874faa-f90a-45db-9ce3-c815773b9a58",
   "metadata": {},
   "outputs": [],
   "source": [
    "#base_matrix"
   ]
  },
  {
   "cell_type": "markdown",
   "id": "8d16cd52-bcb8-4e43-b78e-7f6270a5b91c",
   "metadata": {},
   "source": [
    "### Spacial expension"
   ]
  },
  {
   "cell_type": "code",
   "execution_count": 192,
   "id": "2a3e372b-74d4-449f-bae3-1fc31f1391cc",
   "metadata": {},
   "outputs": [
    {
     "name": "stdout",
     "output_type": "stream",
     "text": [
      "[19, 49, 51, 55, 57, 61, 65, 71, 79, 81, 85, 116]\n"
     ]
    }
   ],
   "source": [
    "# Find rows without '#' and duplicate them\n",
    "rows_to_duplicate = [i for i, row in enumerate(base_matrix) if '#' not in row]\n",
    "print(rows_to_duplicate)\n",
    "\n",
    "#for i in rows_to_duplicate[::-1]:  # Iterate in reverse order to avoid index issues\n",
    "#    base_matrix.insert(i, base_matrix[i][:])"
   ]
  },
  {
   "cell_type": "code",
   "execution_count": 193,
   "id": "e233d9b7-c0bf-4763-a769-893694abc465",
   "metadata": {},
   "outputs": [
    {
     "name": "stdout",
     "output_type": "stream",
     "text": [
      "[23, 27, 30, 53, 54, 55, 66, 85, 86, 100, 125]\n"
     ]
    }
   ],
   "source": [
    "# Find columns without '#' and duplicate them\n",
    "columns_to_duplicate = [j for j in range(len(base_matrix[0])) if all(row[j] != '#' for row in base_matrix)]\n",
    "print(columns_to_duplicate)\n",
    "\n",
    "#for j in columns_to_duplicate[::-1]:  # Iterate in reverse order to avoid index issues\n",
    "#    for column in base_matrix:\n",
    "#        column.insert(j, column[j])"
   ]
  },
  {
   "cell_type": "code",
   "execution_count": 147,
   "id": "f98bd77d-8c73-4372-80d4-30f98231eb67",
   "metadata": {},
   "outputs": [
    {
     "data": {
      "text/plain": [
       "[['.', '.', '.', '#', '.', '.', '.', '.', '.', '.'],\n",
       " ['.', '.', '.', '.', '.', '.', '.', '#', '.', '.'],\n",
       " ['#', '.', '.', '.', '.', '.', '.', '.', '.', '.'],\n",
       " ['.', '.', '.', '.', '.', '.', '.', '.', '.', '.'],\n",
       " ['.', '.', '.', '.', '.', '.', '#', '.', '.', '.'],\n",
       " ['.', '#', '.', '.', '.', '.', '.', '.', '.', '.'],\n",
       " ['.', '.', '.', '.', '.', '.', '.', '.', '.', '#'],\n",
       " ['.', '.', '.', '.', '.', '.', '.', '.', '.', '.'],\n",
       " ['.', '.', '.', '.', '.', '.', '.', '#', '.', '.'],\n",
       " ['#', '.', '.', '.', '#', '.', '.', '.', '.', '.']]"
      ]
     },
     "execution_count": 147,
     "metadata": {},
     "output_type": "execute_result"
    }
   ],
   "source": [
    "base_matrix"
   ]
  },
  {
   "cell_type": "markdown",
   "id": "5b0d1cc6-dcdf-4bb2-9102-70ecf49a3594",
   "metadata": {},
   "source": [
    "### Numbered galaxies"
   ]
  },
  {
   "cell_type": "code",
   "execution_count": 194,
   "id": "8f51e4a7-50fd-4228-b97f-26c15a2706f3",
   "metadata": {},
   "outputs": [],
   "source": [
    "x = 1\n",
    "coord = {}\n",
    "\n",
    "for i in range(0, len(base_matrix)):\n",
    "    for j in range(len(base_matrix[i])):\n",
    "        if base_matrix[i][j] == '#':\n",
    "            base_matrix[i][j] = x\n",
    "            coord[x] = [i, j]\n",
    "            x += 1"
   ]
  },
  {
   "cell_type": "code",
   "execution_count": 149,
   "id": "d97eb097-be52-4c52-8067-1cf32210e3ff",
   "metadata": {},
   "outputs": [
    {
     "data": {
      "text/plain": [
       "[['.', '.', '.', 1, '.', '.', '.', '.', '.', '.'],\n",
       " ['.', '.', '.', '.', '.', '.', '.', 2, '.', '.'],\n",
       " [3, '.', '.', '.', '.', '.', '.', '.', '.', '.'],\n",
       " ['.', '.', '.', '.', '.', '.', '.', '.', '.', '.'],\n",
       " ['.', '.', '.', '.', '.', '.', 4, '.', '.', '.'],\n",
       " ['.', 5, '.', '.', '.', '.', '.', '.', '.', '.'],\n",
       " ['.', '.', '.', '.', '.', '.', '.', '.', '.', 6],\n",
       " ['.', '.', '.', '.', '.', '.', '.', '.', '.', '.'],\n",
       " ['.', '.', '.', '.', '.', '.', '.', 7, '.', '.'],\n",
       " [8, '.', '.', '.', 9, '.', '.', '.', '.', '.']]"
      ]
     },
     "execution_count": 149,
     "metadata": {},
     "output_type": "execute_result"
    }
   ],
   "source": [
    "base_matrix"
   ]
  },
  {
   "cell_type": "code",
   "execution_count": 150,
   "id": "9c3ca0b2-66f0-4075-9da7-b1a1ff00e1cb",
   "metadata": {},
   "outputs": [
    {
     "data": {
      "text/plain": [
       "{1: [0, 3],\n",
       " 2: [1, 7],\n",
       " 3: [2, 0],\n",
       " 4: [4, 6],\n",
       " 5: [5, 1],\n",
       " 6: [6, 9],\n",
       " 7: [8, 7],\n",
       " 8: [9, 0],\n",
       " 9: [9, 4]}"
      ]
     },
     "execution_count": 150,
     "metadata": {},
     "output_type": "execute_result"
    }
   ],
   "source": [
    "coord"
   ]
  },
  {
   "cell_type": "markdown",
   "id": "a6084532-ef3f-443e-ac61-74d7f6bf4d23",
   "metadata": {},
   "source": [
    "## Part 1"
   ]
  },
  {
   "cell_type": "code",
   "execution_count": 199,
   "id": "e658dcb4-0a71-414d-a972-d25a2374e9ed",
   "metadata": {},
   "outputs": [
    {
     "name": "stdout",
     "output_type": "stream",
     "text": [
      "8704098\n"
     ]
    }
   ],
   "source": [
    "somme = 0\n",
    "\n",
    "for i in range(0, len(coord.items())):\n",
    "    for j in range(i+1, len(coord.items())):\n",
    "        local_sum = 0\n",
    "        local_sum = sum([abs(y - x) for x, y in zip(list(coord.values())[i], list(coord.values())[j])])\n",
    "        somme += local_sum\n",
    "\n",
    "print(somme)\n",
    "        \n",
    "\n",
    "#for key, value in coord.items():\n",
    "#    for keys, values in coord.items():\n",
    "#        print(key, keys)"
   ]
  },
  {
   "cell_type": "code",
   "execution_count": 116,
   "id": "5a8f58e4-20d8-420b-87f7-30d9f0b63f43",
   "metadata": {},
   "outputs": [
    {
     "data": {
      "text/plain": [
       "([3, 7], [2, 5, 8])"
      ]
     },
     "execution_count": 116,
     "metadata": {},
     "output_type": "execute_result"
    }
   ],
   "source": [
    "rows_to_duplicate, columns_to_duplicate"
   ]
  },
  {
   "cell_type": "markdown",
   "id": "fef0d3af-e37b-409d-9dcf-5532cf5611d6",
   "metadata": {},
   "source": [
    "## Part 2"
   ]
  },
  {
   "cell_type": "code",
   "execution_count": 200,
   "id": "c2389328-bc23-4f10-99f8-9dbcf208c19a",
   "metadata": {},
   "outputs": [
    {
     "name": "stdout",
     "output_type": "stream",
     "text": [
      "904633799472\n"
     ]
    }
   ],
   "source": [
    "somme = 0\n",
    "\n",
    "for i in range(0, len(coord.items())):\n",
    "    for j in range(i+1, len(coord.items())):\n",
    "        local_sum = 0\n",
    "        local_sum = sum([abs(y - x) for x, y in zip(list(coord.values())[i], list(coord.values())[j])])\n",
    "\n",
    "        for row in rows_to_duplicate:\n",
    "            index = 1\n",
    "            if list(coord.values())[i][0] > list(coord.values())[j][0]:\n",
    "                index = -1\n",
    "            if row in range(list(coord.values())[i][0], list(coord.values())[j][0], index):\n",
    "                local_sum += 999999\n",
    "\n",
    "        for col in columns_to_duplicate:\n",
    "            index = 1\n",
    "            if list(coord.values())[i][1] > list(coord.values())[j][1]:\n",
    "                index = -1\n",
    "            if col in range(list(coord.values())[i][1], list(coord.values())[j][1], index):\n",
    "                local_sum += 999999\n",
    "\n",
    "        \n",
    "        #print(f'end: {list(coord.values())[i]}, {list(coord.values())[j]}, {local_sum}')\n",
    "        \n",
    "        somme += local_sum\n",
    "\n",
    "print(somme)"
   ]
  },
  {
   "cell_type": "code",
   "execution_count": null,
   "id": "a747f03a-56bd-4ab6-ba19-a393b9c77c55",
   "metadata": {},
   "outputs": [],
   "source": []
  }
 ],
 "metadata": {
  "kernelspec": {
   "display_name": "Python 3 (ipykernel)",
   "language": "python",
   "name": "python3"
  },
  "language_info": {
   "codemirror_mode": {
    "name": "ipython",
    "version": 3
   },
   "file_extension": ".py",
   "mimetype": "text/x-python",
   "name": "python",
   "nbconvert_exporter": "python",
   "pygments_lexer": "ipython3",
   "version": "3.10.13"
  }
 },
 "nbformat": 4,
 "nbformat_minor": 5
}
