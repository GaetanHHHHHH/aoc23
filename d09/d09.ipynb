{
 "cells": [
  {
   "cell_type": "code",
   "execution_count": 325,
   "id": "d593dc6f",
   "metadata": {},
   "outputs": [],
   "source": [
    "# Get input\n",
    "input_test = ['0 3 6 9 12 15',\n",
    "              '1 3 6 10 15 21', \n",
    "              '10 13 16 21 30 45']\n",
    "inpute = open(\"./input.txt\").read().splitlines()"
   ]
  },
  {
   "cell_type": "code",
   "execution_count": 326,
   "id": "e0251f5c-9984-4096-90d8-c2f8fea42393",
   "metadata": {},
   "outputs": [],
   "source": [
    "# Imports"
   ]
  },
  {
   "cell_type": "markdown",
   "id": "82d5036f-854c-426e-a452-98c97bb15738",
   "metadata": {},
   "source": [
    "## Part 1"
   ]
  },
  {
   "cell_type": "markdown",
   "id": "27146efb-e3ab-477e-8c12-49afbafed197",
   "metadata": {},
   "source": [
    "### Create histories"
   ]
  },
  {
   "cell_type": "code",
   "execution_count": 426,
   "id": "2ddaffe9-c928-4c08-87fe-fab307931250",
   "metadata": {},
   "outputs": [],
   "source": [
    "result = [[int(num) for num in elem.split()] for elem in inpute]"
   ]
  },
  {
   "cell_type": "code",
   "execution_count": 427,
   "id": "fd5f2aa5-4b59-4f0e-9977-1962488f332b",
   "metadata": {},
   "outputs": [],
   "source": [
    "def recursion(input, total = None):\n",
    "    if total is None:\n",
    "        total = []\n",
    "        \n",
    "    total.append(input)\n",
    "    diffs = []\n",
    "\n",
    "    for i in range(0, len(input)-1):\n",
    "        diff = input[i+1] - input[i]\n",
    "        diffs.append(diff)\n",
    "\n",
    "    if len(set(diffs)) == 1: \n",
    "        total.append(diffs)\n",
    "        \n",
    "        zeros = [0] * (len(diffs) - 1)\n",
    "        total.append(zeros)\n",
    "        \n",
    "        return total \n",
    "    else:\n",
    "        return recursion(diffs, total)"
   ]
  },
  {
   "cell_type": "code",
   "execution_count": 428,
   "id": "89eac9c4-2f59-432e-99c3-115881da8a20",
   "metadata": {},
   "outputs": [],
   "source": [
    "history = []\n",
    "\n",
    "for elem in result:\n",
    "    history.append(recursion(elem))"
   ]
  },
  {
   "cell_type": "markdown",
   "id": "1e07d536-4daa-4c24-8b1e-9d31abcb2a3f",
   "metadata": {},
   "source": [
    "### Propagate results to get forecasts"
   ]
  },
  {
   "cell_type": "code",
   "execution_count": 341,
   "id": "71b58437-7def-48ab-9191-aca2a88e2085",
   "metadata": {},
   "outputs": [],
   "source": [
    "count = 0"
   ]
  },
  {
   "cell_type": "code",
   "execution_count": 342,
   "id": "8b0c68dd-9fd3-4530-b6cd-c9e6d6c2e976",
   "metadata": {},
   "outputs": [],
   "source": [
    "for i in range(0, len(history)):\n",
    "    previous = 0\n",
    "    \n",
    "    for j in range(len(history[i])-2, -1, -1):\n",
    "        previous = history[i][j][-1]\n",
    "        history[i][j-1].append(history[i][j-1][-1]+previous)\n",
    "            \n",
    "    count += previous"
   ]
  },
  {
   "cell_type": "code",
   "execution_count": 343,
   "id": "57b6b36d-2acb-450a-93db-a7e391897c76",
   "metadata": {},
   "outputs": [
    {
     "data": {
      "text/plain": [
       "11"
      ]
     },
     "execution_count": 343,
     "metadata": {},
     "output_type": "execute_result"
    }
   ],
   "source": [
    "count"
   ]
  },
  {
   "cell_type": "markdown",
   "id": "d12bcd1d-e7e1-4bc6-b855-23747f54c92a",
   "metadata": {},
   "source": [
    "## Part 2"
   ]
  },
  {
   "cell_type": "markdown",
   "id": "cae63818-5913-4cd5-99be-8508b7c0d164",
   "metadata": {},
   "source": [
    "### Propagate results to get forecasts"
   ]
  },
  {
   "cell_type": "code",
   "execution_count": 429,
   "id": "ea88e18e-bd75-4019-b6cb-111e539e38ce",
   "metadata": {},
   "outputs": [],
   "source": [
    "count = 0"
   ]
  },
  {
   "cell_type": "code",
   "execution_count": 432,
   "id": "8814adef-77f3-4f2d-9001-4bfbb57d34f6",
   "metadata": {},
   "outputs": [],
   "source": [
    "for i in range(0, len(history)):\n",
    "    previous = 0\n",
    "    \n",
    "    for j in range(len(history[i])-2, -1, -1):\n",
    "        previous = history[i][j][0]\n",
    "        history[i][j-1].insert(0, history[i][j-1][0]-previous)\n",
    "                    \n",
    "    count += previous"
   ]
  },
  {
   "cell_type": "code",
   "execution_count": 431,
   "id": "6621bb74-1141-4bd4-a2fc-74d9b7f90676",
   "metadata": {},
   "outputs": [
    {
     "data": {
      "text/plain": [
       "948"
      ]
     },
     "execution_count": 431,
     "metadata": {},
     "output_type": "execute_result"
    }
   ],
   "source": [
    "count"
   ]
  },
  {
   "cell_type": "code",
   "execution_count": null,
   "id": "a8a884d3-4bde-44ae-9011-a83e31795658",
   "metadata": {},
   "outputs": [],
   "source": []
  }
 ],
 "metadata": {
  "kernelspec": {
   "display_name": "Python 3 (ipykernel)",
   "language": "python",
   "name": "python3"
  },
  "language_info": {
   "codemirror_mode": {
    "name": "ipython",
    "version": 3
   },
   "file_extension": ".py",
   "mimetype": "text/x-python",
   "name": "python",
   "nbconvert_exporter": "python",
   "pygments_lexer": "ipython3",
   "version": "3.10.13"
  }
 },
 "nbformat": 4,
 "nbformat_minor": 5
}
