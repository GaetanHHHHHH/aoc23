{
 "cells": [
  {
   "cell_type": "code",
   "execution_count": 117,
   "id": "d593dc6f",
   "metadata": {},
   "outputs": [],
   "source": [
    "# Get input\n",
    "input_test = ['Time:      7  15   30', \n",
    "              'Distance:  9  40  200']\n",
    "inpute = open(\"./input.txt\").read().splitlines()"
   ]
  },
  {
   "cell_type": "code",
   "execution_count": 118,
   "id": "e0251f5c-9984-4096-90d8-c2f8fea42393",
   "metadata": {},
   "outputs": [],
   "source": [
    "# Imports"
   ]
  },
  {
   "cell_type": "markdown",
   "id": "5c05416e-5e69-40e5-86eb-37be451bde1a",
   "metadata": {},
   "source": [
    "## Part 1"
   ]
  },
  {
   "cell_type": "code",
   "execution_count": 119,
   "id": "3cac0d5d-dd4e-4aa7-b3ef-75860bc0e244",
   "metadata": {},
   "outputs": [
    {
     "name": "stdout",
     "output_type": "stream",
     "text": [
      "{'Time': ['35', '93', '73', '66'], 'Distance': ['212', '2060', '1201', '1044']}\n"
     ]
    }
   ],
   "source": [
    "flatas = {}\n",
    "\n",
    "for item in inpute:\n",
    "    key, values_str = item.split(':')\n",
    "    values = [val.strip() for val in values_str.split()]\n",
    "    flatas[key.strip()] = values\n",
    "\n",
    "print(flatas)"
   ]
  },
  {
   "cell_type": "code",
   "execution_count": 120,
   "id": "df9587da-8274-49c3-b6cf-9a2280bdd551",
   "metadata": {},
   "outputs": [
    {
     "name": "stdout",
     "output_type": "stream",
     "text": [
      "114400\n"
     ]
    }
   ],
   "source": [
    "ways = 0\n",
    "total_count = 1\n",
    "\n",
    "for i in range(len(flatas['Time'])):\n",
    "    time_val, dist_val = flatas['Time'][i], flatas['Distance'][i]\n",
    "\n",
    "    for j in range(0, int(time_val)+1):\n",
    "        speed = j\n",
    "        dist = speed*(int(time_val)-j)\n",
    "        #print(f'Hold the button for {j} sec; speed={speed} and dist={dist}')\n",
    "        if dist > int(dist_val):\n",
    "            ways += 1\n",
    "\n",
    "    total_count *= ways\n",
    "    ways = 0\n",
    "\n",
    "print(total_count)"
   ]
  },
  {
   "cell_type": "markdown",
   "id": "7a4d180b-c44a-4635-a302-22cd54480fc4",
   "metadata": {},
   "source": [
    "## Part 2"
   ]
  },
  {
   "cell_type": "code",
   "execution_count": 130,
   "id": "e267e930-97f2-48b4-af62-d5bcbb31de34",
   "metadata": {},
   "outputs": [
    {
     "name": "stdout",
     "output_type": "stream",
     "text": [
      "{'Time': '35937366', 'Distance': '212206012011044'}\n"
     ]
    }
   ],
   "source": [
    "flatas = {}\n",
    "\n",
    "for item in inpute:\n",
    "    key, values_str = item.split(':')\n",
    "    values = values_str.replace(' ', '')\n",
    "    flatas[key.strip()] = values\n",
    "\n",
    "print(flatas)"
   ]
  },
  {
   "cell_type": "code",
   "execution_count": 131,
   "id": "4772190e-d1c8-4710-9dbd-f008671f3488",
   "metadata": {},
   "outputs": [
    {
     "name": "stdout",
     "output_type": "stream",
     "text": [
      "21039729\n"
     ]
    }
   ],
   "source": [
    "ways = 0\n",
    "total_count = 1\n",
    "\n",
    "time_val, dist_val = flatas['Time'], flatas['Distance']\n",
    "\n",
    "for j in range(0, int(time_val)+1):\n",
    "    speed = j\n",
    "    dist = speed*(int(time_val)-j)\n",
    "    #print(f'Hold the button for {j} sec; speed={speed} and dist={dist}')\n",
    "    if dist > int(dist_val):\n",
    "        ways += 1\n",
    "\n",
    "total_count *= ways\n",
    "ways = 0\n",
    "\n",
    "print(total_count)"
   ]
  },
  {
   "cell_type": "code",
   "execution_count": null,
   "id": "a7d165b6-90a0-4f05-89ee-1e50c8fde568",
   "metadata": {},
   "outputs": [],
   "source": []
  }
 ],
 "metadata": {
  "kernelspec": {
   "display_name": "Python 3 (ipykernel)",
   "language": "python",
   "name": "python3"
  },
  "language_info": {
   "codemirror_mode": {
    "name": "ipython",
    "version": 3
   },
   "file_extension": ".py",
   "mimetype": "text/x-python",
   "name": "python",
   "nbconvert_exporter": "python",
   "pygments_lexer": "ipython3",
   "version": "3.10.13"
  }
 },
 "nbformat": 4,
 "nbformat_minor": 5
}
